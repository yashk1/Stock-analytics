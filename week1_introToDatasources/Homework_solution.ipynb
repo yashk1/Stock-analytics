{
 "cells": [
  {
   "cell_type": "markdown",
   "metadata": {},
   "source": [
    "# Homework 1"
   ]
  },
  {
   "cell_type": "code",
   "execution_count": 9,
   "metadata": {},
   "outputs": [],
   "source": [
    "# IMPORTS\n",
    "import numpy as np\n",
    "import pandas as pd\n",
    "\n",
    "#Fin Data Sources\n",
    "import yfinance as yf\n",
    "import pandas_datareader as pdr\n",
    "\n",
    "#Data viz\n",
    "import plotly.graph_objs as go\n",
    "import plotly.express as px\n",
    "\n",
    "#make chart interactive\n",
    "import mplcursors\n",
    "\n",
    "import time\n",
    "from datetime import date\n",
    "import pytz\n",
    "\n",
    "utc = pytz.UTC"
   ]
  },
  {
   "cell_type": "markdown",
   "metadata": {},
   "source": [
    "## Question 1: [Macro] Average growth of GDP in 2023 \n",
    "\n",
    "What is the average growth of GDP (in %) in 2023?\n",
    "\n",
    "Download the timeseries Real Gross Domestic Product (GDPC1) from FRED (https://fred.stlouisfed.org/series/GDPC1). \n",
    "\n",
    "Calculate year-over-year (YoY) growth rate (that is, divide current value to one 4 quarters ago). Find the average YoY growth in 2023 (average from 4 YoY numbers). Round to 1 digit after the decimal point: e.g. if you get 5.66% growth => you should answer 5.7"
   ]
  },
  {
   "cell_type": "code",
   "execution_count": 10,
   "metadata": {},
   "outputs": [
    {
     "name": "stdout",
     "output_type": "stream",
     "text": [
      "Year = 2024, Month = 4, Day = 24,\n",
      "Year = 1954, Month = 4, Day = 24,\n",
      "Period for indexes = 1954-04-24 to 2024-04-24\n"
     ]
    }
   ],
   "source": [
    "end = date.today()\n",
    "print(f'Year = {end.year}, Month = {end.month}, Day = {end.day},')\n",
    "\n",
    "start = date(year=end.year-70, month=end.month, day=end.day)\n",
    "print(f'Year = {end.year-70}, Month = {end.month}, Day = {end.day},')\n",
    "\n",
    "print(f'Period for indexes = {start} to {end}')"
   ]
  },
  {
   "cell_type": "code",
   "execution_count": 12,
   "metadata": {},
   "outputs": [
    {
     "data": {
      "text/html": [
       "<div>\n",
       "<style scoped>\n",
       "    .dataframe tbody tr th:only-of-type {\n",
       "        vertical-align: middle;\n",
       "    }\n",
       "\n",
       "    .dataframe tbody tr th {\n",
       "        vertical-align: top;\n",
       "    }\n",
       "\n",
       "    .dataframe thead th {\n",
       "        text-align: right;\n",
       "    }\n",
       "</style>\n",
       "<table border=\"1\" class=\"dataframe\">\n",
       "  <thead>\n",
       "    <tr style=\"text-align: right;\">\n",
       "      <th></th>\n",
       "      <th>GDPC1</th>\n",
       "    </tr>\n",
       "    <tr>\n",
       "      <th>DATE</th>\n",
       "      <th></th>\n",
       "    </tr>\n",
       "  </thead>\n",
       "  <tbody>\n",
       "    <tr>\n",
       "      <th>2022-10-01</th>\n",
       "      <td>21989.981</td>\n",
       "    </tr>\n",
       "    <tr>\n",
       "      <th>2023-01-01</th>\n",
       "      <td>22112.329</td>\n",
       "    </tr>\n",
       "    <tr>\n",
       "      <th>2023-04-01</th>\n",
       "      <td>22225.350</td>\n",
       "    </tr>\n",
       "    <tr>\n",
       "      <th>2023-07-01</th>\n",
       "      <td>22490.692</td>\n",
       "    </tr>\n",
       "    <tr>\n",
       "      <th>2023-10-01</th>\n",
       "      <td>22679.255</td>\n",
       "    </tr>\n",
       "  </tbody>\n",
       "</table>\n",
       "</div>"
      ],
      "text/plain": [
       "                GDPC1\n",
       "DATE                 \n",
       "2022-10-01  21989.981\n",
       "2023-01-01  22112.329\n",
       "2023-04-01  22225.350\n",
       "2023-07-01  22490.692\n",
       "2023-10-01  22679.255"
      ]
     },
     "execution_count": 12,
     "metadata": {},
     "output_type": "execute_result"
    }
   ],
   "source": [
    "gdpreal = pdr.DataReader('GDPC1', 'fred', start = start)\n",
    "gdpreal.tail()"
   ]
  },
  {
   "cell_type": "code",
   "execution_count": 14,
   "metadata": {},
   "outputs": [
    {
     "data": {
      "text/html": [
       "<div>\n",
       "<style scoped>\n",
       "    .dataframe tbody tr th:only-of-type {\n",
       "        vertical-align: middle;\n",
       "    }\n",
       "\n",
       "    .dataframe tbody tr th {\n",
       "        vertical-align: top;\n",
       "    }\n",
       "\n",
       "    .dataframe thead th {\n",
       "        text-align: right;\n",
       "    }\n",
       "</style>\n",
       "<table border=\"1\" class=\"dataframe\">\n",
       "  <thead>\n",
       "    <tr style=\"text-align: right;\">\n",
       "      <th></th>\n",
       "      <th>GDPC1</th>\n",
       "      <th>gdpc1_yoy</th>\n",
       "      <th>gdpc1_qoq</th>\n",
       "    </tr>\n",
       "    <tr>\n",
       "      <th>DATE</th>\n",
       "      <th></th>\n",
       "      <th></th>\n",
       "      <th></th>\n",
       "    </tr>\n",
       "  </thead>\n",
       "  <tbody>\n",
       "    <tr>\n",
       "      <th>2022-10-01</th>\n",
       "      <td>21989.981</td>\n",
       "      <td>0.006517</td>\n",
       "      <td>0.006354</td>\n",
       "    </tr>\n",
       "    <tr>\n",
       "      <th>2023-01-01</th>\n",
       "      <td>22112.329</td>\n",
       "      <td>0.017179</td>\n",
       "      <td>0.005564</td>\n",
       "    </tr>\n",
       "    <tr>\n",
       "      <th>2023-04-01</th>\n",
       "      <td>22225.350</td>\n",
       "      <td>0.023825</td>\n",
       "      <td>0.005111</td>\n",
       "    </tr>\n",
       "    <tr>\n",
       "      <th>2023-07-01</th>\n",
       "      <td>22490.692</td>\n",
       "      <td>0.029269</td>\n",
       "      <td>0.011939</td>\n",
       "    </tr>\n",
       "    <tr>\n",
       "      <th>2023-10-01</th>\n",
       "      <td>22679.255</td>\n",
       "      <td>0.031345</td>\n",
       "      <td>0.008384</td>\n",
       "    </tr>\n",
       "  </tbody>\n",
       "</table>\n",
       "</div>"
      ],
      "text/plain": [
       "                GDPC1  gdpc1_yoy  gdpc1_qoq\n",
       "DATE                                       \n",
       "2022-10-01  21989.981   0.006517   0.006354\n",
       "2023-01-01  22112.329   0.017179   0.005564\n",
       "2023-04-01  22225.350   0.023825   0.005111\n",
       "2023-07-01  22490.692   0.029269   0.011939\n",
       "2023-10-01  22679.255   0.031345   0.008384"
      ]
     },
     "execution_count": 14,
     "metadata": {},
     "output_type": "execute_result"
    }
   ],
   "source": [
    "gdpreal['gdpc1_yoy'] = gdpreal['GDPC1'] / gdpreal['GDPC1'].shift(4)-1\n",
    "gdpreal['gdpc1_qoq'] = gdpreal['GDPC1'] / gdpreal['GDPC1'].shift(1)-1\n",
    "gdpreal.tail()"
   ]
  },
  {
   "cell_type": "code",
   "execution_count": 15,
   "metadata": {},
   "outputs": [
    {
     "data": {
      "text/plain": [
       "2.5"
      ]
     },
     "execution_count": 15,
     "metadata": {},
     "output_type": "execute_result"
    }
   ],
   "source": [
    "round(gdpreal[gdpreal.index.year == 2023]['gdpc1_yoy'].mean() *100,1)"
   ]
  },
  {
   "cell_type": "markdown",
   "metadata": {},
   "source": [
    "## Question 2. [Macro] Inverse \"Treasury Yield\"\n",
    "Find the min value of (dgs10-dgs2) after since year 2000 (2000-01-01) and write it down as an answer, round to 1 digit after the decimal point.\n",
    "\n",
    "Download DGS2 and DGS10 interest rates series (https://fred.stlouisfed.org/series/DGS2, https://fred.stlouisfed.org/series/DGS10). Join them together to one dataframe on date (you might need to read about pandas.DataFrame.join()), calculate the difference dgs10-dgs2 daily.\n",
    "\n",
    "(Additional: think about what does the \"inverted yield curve\" mean for the market and investors? do you see the same thing in your country/market of interest? Do you think it can be a good predictive feature for the models?)"
   ]
  },
  {
   "cell_type": "code",
   "execution_count": 16,
   "metadata": {},
   "outputs": [
    {
     "data": {
      "text/html": [
       "<div>\n",
       "<style scoped>\n",
       "    .dataframe tbody tr th:only-of-type {\n",
       "        vertical-align: middle;\n",
       "    }\n",
       "\n",
       "    .dataframe tbody tr th {\n",
       "        vertical-align: top;\n",
       "    }\n",
       "\n",
       "    .dataframe thead th {\n",
       "        text-align: right;\n",
       "    }\n",
       "</style>\n",
       "<table border=\"1\" class=\"dataframe\">\n",
       "  <thead>\n",
       "    <tr style=\"text-align: right;\">\n",
       "      <th></th>\n",
       "      <th>DGS10</th>\n",
       "      <th>DGS2</th>\n",
       "      <th>treasury_yield</th>\n",
       "    </tr>\n",
       "    <tr>\n",
       "      <th>DATE</th>\n",
       "      <th></th>\n",
       "      <th></th>\n",
       "      <th></th>\n",
       "    </tr>\n",
       "  </thead>\n",
       "  <tbody>\n",
       "    <tr>\n",
       "      <th>2024-04-17</th>\n",
       "      <td>4.59</td>\n",
       "      <td>4.93</td>\n",
       "      <td>-0.34</td>\n",
       "    </tr>\n",
       "    <tr>\n",
       "      <th>2024-04-18</th>\n",
       "      <td>4.64</td>\n",
       "      <td>4.98</td>\n",
       "      <td>-0.34</td>\n",
       "    </tr>\n",
       "    <tr>\n",
       "      <th>2024-04-19</th>\n",
       "      <td>4.62</td>\n",
       "      <td>4.97</td>\n",
       "      <td>-0.35</td>\n",
       "    </tr>\n",
       "    <tr>\n",
       "      <th>2024-04-22</th>\n",
       "      <td>4.62</td>\n",
       "      <td>4.97</td>\n",
       "      <td>-0.35</td>\n",
       "    </tr>\n",
       "    <tr>\n",
       "      <th>2024-04-23</th>\n",
       "      <td>4.61</td>\n",
       "      <td>4.86</td>\n",
       "      <td>-0.25</td>\n",
       "    </tr>\n",
       "  </tbody>\n",
       "</table>\n",
       "</div>"
      ],
      "text/plain": [
       "            DGS10  DGS2  treasury_yield\n",
       "DATE                                   \n",
       "2024-04-17   4.59  4.93           -0.34\n",
       "2024-04-18   4.64  4.98           -0.34\n",
       "2024-04-19   4.62  4.97           -0.35\n",
       "2024-04-22   4.62  4.97           -0.35\n",
       "2024-04-23   4.61  4.86           -0.25"
      ]
     },
     "execution_count": 16,
     "metadata": {},
     "output_type": "execute_result"
    }
   ],
   "source": [
    "dgs2 = pdr.DataReader('DGS2', 'fred', start='2000-01-01')\n",
    "dgs10 = pdr.DataReader('DGS10', 'fred', start='2000-01-01')\n",
    "\n",
    "df = dgs10.join(dgs2)\n",
    "df['treasury_yield'] = df.DGS10 - df.DGS2\n",
    "df.tail()"
   ]
  },
  {
   "cell_type": "code",
   "execution_count": 17,
   "metadata": {},
   "outputs": [
    {
     "data": {
      "text/html": [
       "<div>\n",
       "<style scoped>\n",
       "    .dataframe tbody tr th:only-of-type {\n",
       "        vertical-align: middle;\n",
       "    }\n",
       "\n",
       "    .dataframe tbody tr th {\n",
       "        vertical-align: top;\n",
       "    }\n",
       "\n",
       "    .dataframe thead th {\n",
       "        text-align: right;\n",
       "    }\n",
       "</style>\n",
       "<table border=\"1\" class=\"dataframe\">\n",
       "  <thead>\n",
       "    <tr style=\"text-align: right;\">\n",
       "      <th></th>\n",
       "      <th>DGS10</th>\n",
       "      <th>DGS2</th>\n",
       "      <th>treasury_yield</th>\n",
       "    </tr>\n",
       "    <tr>\n",
       "      <th>DATE</th>\n",
       "      <th></th>\n",
       "      <th></th>\n",
       "      <th></th>\n",
       "    </tr>\n",
       "  </thead>\n",
       "  <tbody>\n",
       "    <tr>\n",
       "      <th>2023-07-03</th>\n",
       "      <td>3.86</td>\n",
       "      <td>4.94</td>\n",
       "      <td>-1.08</td>\n",
       "    </tr>\n",
       "  </tbody>\n",
       "</table>\n",
       "</div>"
      ],
      "text/plain": [
       "            DGS10  DGS2  treasury_yield\n",
       "DATE                                   \n",
       "2023-07-03   3.86  4.94           -1.08"
      ]
     },
     "execution_count": 17,
     "metadata": {},
     "output_type": "execute_result"
    }
   ],
   "source": [
    "df[df.treasury_yield == df.treasury_yield.min()]"
   ]
  },
  {
   "cell_type": "markdown",
   "metadata": {},
   "source": [
    "BONUS:\n",
    "\n",
    "**What does Inverted yield curve mean for the market and investors?**\n",
    "\n",
    "The inverted yield curve is significant for two main reasons:\n",
    "\n",
    "1. **Historical Indicator of Recession** : Inverted yield curves have historically been a reliable predictor of economic recessions. When short-term interest rates rise above long-term rates, it often signals that investors expect weaker economic growth and lower inflation in the future. This expectation could lead to reduced business investment and consumer spending, eventually leading to a recession.\n",
    "2. **Impact on Investor Sentiment** : Investors may interpret an inverted yield curve as a signal of economic uncertainty and potential market downturns. As a result, they may adjust their investment strategies, such as shifting investments away from stocks to safer assets like bonds or cash, in anticipation of a market downturn.\n",
    "\n",
    "A long-term bond is a 10-Year U.S. Treasury bond. In an inverted yield curve situation, the yield on a 10-Year bond might be lower than the yield on a 2-Year bond. This suggests that investors are willing to accept lower returns on longer-term investments, reflecting expectations of slower economic growth or even recession in the future.\n",
    "\n",
    "However, the yield curve can be distorted due to various factors, and while an inverted yield curve is often a reliable indicator of an impending recession, it may not always be foolproof. Here's why:\n",
    "\n",
    "* **Central Bank Interventions** : Central banks, such as the Federal Reserve in the United States, can influence short-term interest rates through monetary policy actions, such as interest rate cuts or quantitative easing programs. These interventions can distort the yield curve by artificially suppressing short-term rates.\n",
    "* **Market Sentiment and Demand** : Market participants' expectations, perceptions of risk, and demand for specific maturities can also distort the yield curve. For example, strong demand for longer-term bonds may drive down their yields, leading to flattening or inversion of the curve.\n",
    "\n",
    "Therefore, while the inverted yield curve remains a valuable indicator, it should be considered alongside other economic data and factors when assessing the likelihood of a future recession."
   ]
  },
  {
   "cell_type": "markdown",
   "metadata": {},
   "source": [
    "### Question 3. [Index] Which Index is better recently?\n",
    "\n",
    "**Compare S&P 500 and IPC Mexico indexes by the 5 year growth and write down the largest value as an answer (%)**\n",
    "\n",
    "Download on Yahoo Finance two daily index prices for S&P 500 (^GSPC, https://finance.yahoo.com/quote/%5EGSPC/) and IPC Mexico (^MXX, https://finance.yahoo.com/quote/%5EMXX/). Compare 5Y growth for both (between 2019-04-09 and 2024-04-09). Select the higher growing index and write down the growth in % (closest integer %). E.g. if ratio end/start was 2.0925 (or growth of 109.25%), you need to write down 109 as your answer.\n",
    "\n",
    "(Additional: think of other indexes and try to download stats and compare the growth? Do create 10Y and 20Y growth stats. What is an average yearly growth rate (CAGR) for each of the indexes you select?)"
   ]
  },
  {
   "cell_type": "code",
   "execution_count": 20,
   "metadata": {},
   "outputs": [],
   "source": [
    "def calculate_growth(index, start, end):\n",
    "    \"\"\"\n",
    "    Calculate the growth rate for a given ticker and start and end date.\n",
    "\n",
    "    Parameters:\n",
    "    index (str): Index name (e.g., '^MXX')\n",
    "    time_frame (str): Time frame (e.g., '5y', '10y', '1y')\n",
    "\n",
    "    Returns:\n",
    "    float: Growth rate as a decimal\n",
    "    \"\"\"\n",
    "    data = yf.download(tickers=index,\n",
    "                       start = start,\n",
    "                       end = end,\n",
    "                       interval='1d',\n",
    "                       progress=False)\n",
    "    first_value = data['Close'].iloc[0]\n",
    "    last_value = data['Close'].iloc[-1]\n",
    "    growth_rate = (last_value / first_value) - 1\n",
    "    return round(growth_rate ,2)"
   ]
  },
  {
   "cell_type": "code",
   "execution_count": 21,
   "metadata": {},
   "outputs": [
    {
     "name": "stdout",
     "output_type": "stream",
     "text": [
      "GSPC 5y growth: 0.81%\n",
      "IPC Mexico 5y growth: 0.28%\n"
     ]
    }
   ],
   "source": [
    "print(f'GSPC 5y growth: {calculate_growth(\"^GSPC\", \"2019-04-09\", \"2024-04-09\")}%' )\n",
    "print(f'IPC Mexico 5y growth: {calculate_growth(\"^MXX\", \"2019-04-09\", \"2024-04-09\")}%' )"
   ]
  },
  {
   "cell_type": "markdown",
   "metadata": {},
   "source": [
    "#### Bonus:\n",
    "\n",
    "Comapring growth for other indexes"
   ]
  },
  {
   "cell_type": "code",
   "execution_count": 22,
   "metadata": {},
   "outputs": [],
   "source": [
    "def calculate_growth_bytime(index, time_frame):\n",
    "    \"\"\"\n",
    "    Calculate the growth rate for a given ticker and time frame.\n",
    "\n",
    "    Parameters:\n",
    "    index (str): Index name (e.g., '^MXX')\n",
    "    time_frame (str): Time frame (e.g., '5y', '10y', '1y')\n",
    "\n",
    "    Returns:\n",
    "    float: Growth rate as a decimal\n",
    "    \"\"\"\n",
    "    data = yf.download(tickers=index,\n",
    "                       period=time_frame,\n",
    "                       interval='1d',\n",
    "                       progress=False)\n",
    "    first_value = data['Close'].iloc[0]\n",
    "    last_value = data['Close'].iloc[-1]\n",
    "    growth_rate = (last_value / first_value) - 1\n",
    "    return round(growth_rate *100,2)"
   ]
  },
  {
   "cell_type": "code",
   "execution_count": 23,
   "metadata": {},
   "outputs": [
    {
     "name": "stdout",
     "output_type": "stream",
     "text": [
      "********************\n",
      "5y growth for ^GSPC : 73.32%\n",
      "5y growth for ^IXIC : 93.54%\n",
      "5y growth for ^DJI : 45.34%\n",
      "5y growth for ^FTSE : 7.61%\n",
      "5y growth for ^GDAXI : 46.91%\n",
      "5y growth for ^N225 : 73.24%\n",
      "********************\n",
      "10y growth for ^GSPC : 172.17%\n",
      "10y growth for ^IXIC : 285.54%\n",
      "10y growth for ^DJI : 135.07%\n",
      "10y growth for ^FTSE : 19.95%\n",
      "10y growth for ^GDAXI : 89.44%\n",
      "10y growth for ^N225 : 166.99%\n",
      "********************\n",
      "20y growth for ^GSPC : 346.63%\n",
      "20y growth for ^IXIC : 671.45%\n",
      "20y growth for ^DJI : 268.23%\n",
      "20y growth for ^FTSE : 75.87%\n",
      "20y growth for ^GDAXI : 338.43%\n",
      "20y growth for ^N225 : 216.18%\n"
     ]
    }
   ],
   "source": [
    "indexes = [\n",
    "    \"^GSPC\",  # S&P 500\n",
    "    \"^IXIC\",  # Nasdaq Composite\n",
    "    \"^DJI\",   # Dow Jones Industrial Average\n",
    "    \"^FTSE\",  # FTSE 100\n",
    "    \"^GDAXI\", # DAX\n",
    "    \"^N225\"   # Nikkei 225\n",
    "]\n",
    "time_frames = ['5y', '10y', '20y']\n",
    "\n",
    "for t in time_frames:\n",
    "  print(\"*\"*20)\n",
    "  for idx in indexes:\n",
    "    print(f\"{t} growth for {idx} : {calculate_growth_bytime(idx, t)}%\")"
   ]
  },
  {
   "cell_type": "markdown",
   "metadata": {},
   "source": [
    "### Question 4. [Stocks OHLCV] 52-weeks range ratio (2023) for the selected stocks\n",
    "Find the largest range ratio [=(max-min)/max] of Adj.Close prices in 2023\n",
    "\n",
    "Download the 2023 daily OHLCV data on Yahoo Finance for top6 stocks on earnings (https://companiesmarketcap.com/most-profitable-companies/): 2222.SR,BRK-B, AAPL, MSFT, GOOG, JPM.\n",
    "\n",
    "Here is the example data you should see in Pandas for \"2222.SR\": https://finance.yahoo.com/quote/2222.SR/history\n",
    "\n",
    "Calculate maximum-minimim \"Adj.Close\" price for each stock and divide it by the maximum \"Adj.Close\" value. Round the result to two decimal places (e.g. 0.1575 will be 0.16)\n",
    "\n",
    "(Additional: why this may be important for your research?)"
   ]
  },
  {
   "cell_type": "code",
   "execution_count": 24,
   "metadata": {},
   "outputs": [],
   "source": [
    "def calculate_rangeRatio_52wks(ticker, start, end):\n",
    "    \"\"\"\n",
    "    Calculate the 52 week range ratio of Adj. Close prices\n",
    "\n",
    "    Parameters:\n",
    "    ticker (str): Ticker/stock name (e.g., '^GOOG')\n",
    "    start (str): start date\n",
    "    end (str): end date\n",
    "\n",
    "    Returns:\n",
    "    float: 52 week range ratio of Adj. Close prices \n",
    "    \"\"\"\n",
    "    data = yf.download(tickers=ticker,\n",
    "                       start = start,\n",
    "                       end = end,\n",
    "                       interval='1d',\n",
    "                       progress=False)\n",
    "    max = data['Adj Close'].max()\n",
    "    min = data['Adj Close'].min()\n",
    "    range = (max-min)/max\n",
    "\n",
    "    return round(range, 2)\n"
   ]
  },
  {
   "cell_type": "code",
   "execution_count": 25,
   "metadata": {},
   "outputs": [
    {
     "data": {
      "text/plain": [
       "[('2222.SR', 0.21),\n",
       " ('BRK-B', 0.21),\n",
       " ('JPM', 0.28),\n",
       " ('AAPL', 0.37),\n",
       " ('GOOG', 0.39),\n",
       " ('MSFT', 0.42)]"
      ]
     },
     "execution_count": 25,
     "metadata": {},
     "output_type": "execute_result"
    }
   ],
   "source": [
    "tickers = ['2222.SR', 'BRK-B', 'AAPL', 'MSFT', 'GOOG', 'JPM']\n",
    "\n",
    "\n",
    "range_ratios = {}\n",
    "for ticker in tickers:\n",
    "  range_ratios[ticker] = calculate_rangeRatio_52wks(ticker, start = '2023-01-01', end='2023-12-31')\n",
    "\n",
    "sorted(range_ratios.items(), key=lambda x: x[1])"
   ]
  },
  {
   "cell_type": "markdown",
   "metadata": {},
   "source": [
    "BONUS:\n",
    "\n",
    "**Why range ratio may be important for your research?**\n",
    "\n",
    "The range ratio is an important metric for understanding the volatility of a stock's price. A higher range ratio indicates a larger difference between the highest and lowest prices, which can be a sign of higher volatility. This information can be useful for investors when evaluating the risk and potential returns of a stock.\n",
    "\n",
    "For example, a stock with a high range ratio may be more attractive to investors who are willing to take on higher risk in exchange for the potential for higher returns. Conversely, a stock with a low range ratio may be more appealing to investors who are more risk-averse and prefer more stable returns.\n",
    "\n",
    "Additionally, the range ratio can be used in conjunction with other technical analysis indicators to identify potential trading opportunities or to assess the overall market conditions. For instance, a stock with a high range ratio may be more susceptible to sudden price swings, which could present opportunities for short-term traders."
   ]
  },
  {
   "cell_type": "markdown",
   "metadata": {},
   "source": [
    "### Question 5. [Stocks] Dividend Yield\n",
    "\n",
    "**Find the largest dividend yield for the same set of stocks**\n",
    "\n",
    "Use the same list of companies (2222.SR,BRK-B, AAPL, MSFT, GOOG, JPM) and download all dividends paid in 2023.\n",
    "You can use `get_actions()` method or `.dividends` field in yfinance library (https://github.com/ranaroussi/yfinance?tab=readme-ov-file#quick-start)\n",
    "\n",
    "Sum up all dividends paid in 2023 per company and divide each value by the closing price (Adj.Close) at the last trading day of the year.\n",
    "\n",
    "Find the maximum value in % and round to 1 digit after the decimal point. (E.g., if you obtained  dollar 1.25 dividends paid and the end year stock price is dollar 100, the dividend yield is 1.25% -- and your answer should be equal to 1.3)"
   ]
  },
  {
   "cell_type": "code",
   "execution_count": 28,
   "metadata": {},
   "outputs": [],
   "source": [
    "def calculate_dividends(ticker, start, end):\n",
    "    \"\"\"\n",
    "    Calculate the dividend for a stock\n",
    "\n",
    "    Parameters:\n",
    "    ticker (str): Ticker/stock name (e.g., '^GOOG')\n",
    "    start (str): start date\n",
    "    end (str): end date\n",
    "\n",
    "    Returns:\n",
    "    float: 52 week range ratio of Adj. Close prices \n",
    "    \"\"\"\n",
    "    data = yf.download(tickers=ticker,\n",
    "                   start=start,\n",
    "                   end=end,\n",
    "                   interval='1d',\n",
    "                   actions=True,\n",
    "                   progress=False)\n",
    "    total_dividends = data['Dividends'].sum()\n",
    "    last_adj_closing_price = data['Adj Close'].iloc[-1]\n",
    "\n",
    "    divident_yield = total_dividends / last_adj_closing_price\n",
    "\n",
    "    return round(divident_yield * 100, 2)"
   ]
  },
  {
   "cell_type": "code",
   "execution_count": 29,
   "metadata": {},
   "outputs": [
    {
     "name": "stdout",
     "output_type": "stream",
     "text": [
      "The Divident yield for 2222.SR: 2.77%\n",
      "The Divident yield for BRK-B: 0.0%\n",
      "The Divident yield for AAPL: 0.49%\n",
      "The Divident yield for MSFT: 0.74%\n",
      "The Divident yield for GOOG: 0.0%\n",
      "The Divident yield for JPM: 2.41%\n"
     ]
    }
   ],
   "source": [
    "tickers = ['2222.SR', 'BRK-B', 'AAPL', 'MSFT', 'GOOG', 'JPM']\n",
    "\n",
    "for t in tickers:\n",
    "  print(f\"The Divident yield for {t}: {calculate_dividends(t, start = '2023-01-01', end='2023-12-31')}%\")"
   ]
  },
  {
   "cell_type": "code",
   "execution_count": null,
   "metadata": {},
   "outputs": [],
   "source": []
  }
 ],
 "metadata": {
  "kernelspec": {
   "display_name": "base",
   "language": "python",
   "name": "python3"
  },
  "language_info": {
   "codemirror_mode": {
    "name": "ipython",
    "version": 3
   },
   "file_extension": ".py",
   "mimetype": "text/x-python",
   "name": "python",
   "nbconvert_exporter": "python",
   "pygments_lexer": "ipython3",
   "version": "3.12.2"
  }
 },
 "nbformat": 4,
 "nbformat_minor": 2
}
